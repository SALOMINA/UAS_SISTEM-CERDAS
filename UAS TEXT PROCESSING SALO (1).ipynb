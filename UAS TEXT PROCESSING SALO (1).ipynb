{
 "cells": [
  {
   "cell_type": "code",
   "execution_count": 2,
   "id": "ee59ac40",
   "metadata": {},
   "outputs": [
    {
     "data": {
      "text/plain": [
       "['DPD RI AA LaNyalla Mahmud Mattalitti strongly condemns the case of the Chairman and the treatment of dozens of students by HW (36), the manager of a pesantren in West Java',\n",
       " 'Very disgraceful and inappropriate treatment from a pesantren manager. In fact, it is more accurate to call it a very depraved act,\" LaNyalla said in a written statement received in Jakarta, Sunday (12/12/2021)',\n",
       " 'Even based on data from the Integrated Service Center for the Empowerment of Women and Children (P2TP2A) Garut Regency, HW revealed that HW had raped 21 female students at the pesantren']"
      ]
     },
     "execution_count": 2,
     "metadata": {},
     "output_type": "execute_result"
    }
   ],
   "source": [
    "corpus = [\n",
    "'DPD RI AA LaNyalla Mahmud Mattalitti strongly condemns the case of the Chairman and the treatment of dozens of students by HW (36), the manager of a pesantren in West Java',\n",
    "\n",
    "'Very disgraceful and inappropriate treatment from a pesantren manager. In fact, it is more accurate to call it a very depraved act,\" LaNyalla said in a written statement received in Jakarta, Sunday (12/12/2021)',\n",
    "\n",
    "'Even based on data from the Integrated Service Center for the Empowerment of Women and Children (P2TP2A) Garut Regency, HW revealed that HW had raped 21 female students at the pesantren'\n",
    "    \n",
    "    \n",
    "]\n",
    "\n",
    "corpus"
   ]
  },
  {
   "cell_type": "code",
   "execution_count": 3,
   "id": "9440d0bb",
   "metadata": {},
   "outputs": [
    {
     "data": {
      "text/plain": [
       "matrix([[0, 0, 0, 1, 1, 0, 0, 1, 0, 0, 1, 0, 1, 0, 1, 0, 1, 0, 0, 0, 1,\n",
       "         1, 0, 0, 0, 0, 0, 0, 0, 0, 1, 1, 0, 0, 0, 0, 0, 1, 1, 1, 1, 1,\n",
       "         0, 4, 0, 0, 1, 0, 0, 0, 0, 1, 0, 0, 0, 1, 1, 0, 0, 4, 0, 1, 0,\n",
       "         1, 0, 0],\n",
       "        [2, 1, 0, 0, 0, 1, 1, 1, 0, 0, 0, 1, 0, 0, 0, 0, 0, 0, 1, 1, 0,\n",
       "         0, 0, 0, 1, 0, 0, 1, 0, 0, 0, 3, 1, 0, 1, 2, 1, 0, 1, 0, 1, 0,\n",
       "         1, 0, 0, 0, 1, 0, 1, 0, 0, 0, 1, 0, 1, 0, 0, 1, 0, 0, 1, 1, 2,\n",
       "         0, 0, 1],\n",
       "        [0, 0, 1, 0, 0, 0, 0, 1, 1, 1, 0, 0, 0, 1, 0, 1, 0, 1, 0, 0, 0,\n",
       "         0, 1, 1, 0, 1, 1, 1, 1, 1, 2, 0, 0, 1, 0, 0, 0, 0, 0, 0, 0, 0,\n",
       "         0, 1, 1, 1, 1, 1, 0, 1, 1, 0, 0, 1, 0, 0, 1, 0, 1, 3, 0, 0, 0,\n",
       "         0, 1, 0]], dtype=int64)"
      ]
     },
     "execution_count": 3,
     "metadata": {},
     "output_type": "execute_result"
    }
   ],
   "source": [
    "from sklearn.feature_extraction.text import CountVectorizer\n",
    "\n",
    "vectorizer = CountVectorizer()\n",
    "vectorizer_X = vectorizer.fit_transform(corpus).todense()\n",
    "vectorizer_X"
   ]
  },
  {
   "cell_type": "code",
   "execution_count": 7,
   "id": "aa4a20b6",
   "metadata": {},
   "outputs": [
    {
     "data": {
      "text/plain": [
       "['12',\n",
       " '2021',\n",
       " '21',\n",
       " '36',\n",
       " 'aa',\n",
       " 'accurate',\n",
       " 'act',\n",
       " 'and',\n",
       " 'at',\n",
       " 'based',\n",
       " 'by',\n",
       " 'call',\n",
       " 'case',\n",
       " 'center',\n",
       " 'chairman',\n",
       " 'children',\n",
       " 'condemns',\n",
       " 'data',\n",
       " 'depraved',\n",
       " 'disgraceful',\n",
       " 'dozens',\n",
       " 'dpd',\n",
       " 'empowerment',\n",
       " 'even',\n",
       " 'fact',\n",
       " 'female',\n",
       " 'for',\n",
       " 'from',\n",
       " 'garut',\n",
       " 'had',\n",
       " 'hw',\n",
       " 'in',\n",
       " 'inappropriate',\n",
       " 'integrated',\n",
       " 'is',\n",
       " 'it',\n",
       " 'jakarta',\n",
       " 'java',\n",
       " 'lanyalla',\n",
       " 'mahmud',\n",
       " 'manager',\n",
       " 'mattalitti',\n",
       " 'more',\n",
       " 'of',\n",
       " 'on',\n",
       " 'p2tp2a',\n",
       " 'pesantren',\n",
       " 'raped',\n",
       " 'received',\n",
       " 'regency',\n",
       " 'revealed',\n",
       " 'ri',\n",
       " 'said',\n",
       " 'service',\n",
       " 'statement',\n",
       " 'strongly',\n",
       " 'students',\n",
       " 'sunday',\n",
       " 'that',\n",
       " 'the',\n",
       " 'to',\n",
       " 'treatment',\n",
       " 'very',\n",
       " 'west',\n",
       " 'women',\n",
       " 'written']"
      ]
     },
     "execution_count": 7,
     "metadata": {},
     "output_type": "execute_result"
    }
   ],
   "source": [
    "vectorizer.get_feature_names()"
   ]
  },
  {
   "cell_type": "code",
   "execution_count": 4,
   "id": "0880e835",
   "metadata": {},
   "outputs": [
    {
     "name": "stdout",
     "output_type": "stream",
     "text": [
      "Jarak dokumen 1 dan 2: [[9.05538514]]\n",
      "Jarak dokumen 1 dan 3: [[7.14142843]]\n",
      "Jarak dokumen 2 dan 3: [[8.77496439]]\n"
     ]
    }
   ],
   "source": [
    "from sklearn.metrics.pairwise import euclidean_distances\n",
    "\n",
    "for i in range(len(vectorizer_X)):\n",
    "    for j in range(i, len(vectorizer_X)):\n",
    "        if i==j:\n",
    "            continue\n",
    "        jarak = euclidean_distances(vectorizer_X[i], vectorizer_X[j])\n",
    "        print(f'Jarak dokumen {i+1} dan {j+1}: {jarak}')"
   ]
  },
  {
   "cell_type": "code",
   "execution_count": 5,
   "id": "62f3b85b",
   "metadata": {},
   "outputs": [
    {
     "data": {
      "text/plain": [
       "matrix([[0, 0, 0, ..., 0, 0, 0],\n",
       "        [1, 0, 0, ..., 0, 0, 1],\n",
       "        [0, 0, 0, ..., 0, 0, 0],\n",
       "        ...,\n",
       "        [0, 0, 0, ..., 0, 0, 0],\n",
       "        [0, 0, 0, ..., 0, 0, 0],\n",
       "        [0, 0, 0, ..., 0, 0, 0]], dtype=int64)"
      ]
     },
     "execution_count": 5,
     "metadata": {},
     "output_type": "execute_result"
    }
   ],
   "source": [
    "vectorizer = CountVectorizer(stop_words='english')\n",
    "vectorizer_X = vectorizer.fit_transform(corpus).todense()\n",
    "vectorizer_X"
   ]
  },
  {
   "cell_type": "code",
   "execution_count": 5,
   "id": "614e406e",
   "metadata": {},
   "outputs": [
    {
     "data": {
      "text/plain": [
       "['12',\n",
       " '2021',\n",
       " '21',\n",
       " '36',\n",
       " 'aa',\n",
       " 'accurate',\n",
       " 'act',\n",
       " 'and',\n",
       " 'at',\n",
       " 'based',\n",
       " 'by',\n",
       " 'call',\n",
       " 'case',\n",
       " 'center',\n",
       " 'chairman',\n",
       " 'children',\n",
       " 'condemns',\n",
       " 'data',\n",
       " 'depraved',\n",
       " 'disgraceful',\n",
       " 'dozens',\n",
       " 'dpd',\n",
       " 'empowerment',\n",
       " 'even',\n",
       " 'fact',\n",
       " 'female',\n",
       " 'for',\n",
       " 'from',\n",
       " 'garut',\n",
       " 'had',\n",
       " 'hw',\n",
       " 'in',\n",
       " 'inappropriate',\n",
       " 'integrated',\n",
       " 'is',\n",
       " 'it',\n",
       " 'jakarta',\n",
       " 'java',\n",
       " 'lanyalla',\n",
       " 'mahmud',\n",
       " 'manager',\n",
       " 'mattalitti',\n",
       " 'more',\n",
       " 'of',\n",
       " 'on',\n",
       " 'p2tp2a',\n",
       " 'pesantren',\n",
       " 'raped',\n",
       " 'received',\n",
       " 'regency',\n",
       " 'revealed',\n",
       " 'ri',\n",
       " 'said',\n",
       " 'service',\n",
       " 'statement',\n",
       " 'strongly',\n",
       " 'students',\n",
       " 'sunday',\n",
       " 'that',\n",
       " 'the',\n",
       " 'to',\n",
       " 'treatment',\n",
       " 'very',\n",
       " 'west',\n",
       " 'women',\n",
       " 'written']"
      ]
     },
     "execution_count": 5,
     "metadata": {},
     "output_type": "execute_result"
    }
   ],
   "source": [
    "vectorizer.get_feature_names()"
   ]
  },
  {
   "cell_type": "code",
   "execution_count": null,
   "id": "7c291bf7",
   "metadata": {},
   "outputs": [],
   "source": []
  }
 ],
 "metadata": {
  "kernelspec": {
   "display_name": "Python 3 (ipykernel)",
   "language": "python",
   "name": "python3"
  },
  "language_info": {
   "codemirror_mode": {
    "name": "ipython",
    "version": 3
   },
   "file_extension": ".py",
   "mimetype": "text/x-python",
   "name": "python",
   "nbconvert_exporter": "python",
   "pygments_lexer": "ipython3",
   "version": "3.9.7"
  }
 },
 "nbformat": 4,
 "nbformat_minor": 5
}
